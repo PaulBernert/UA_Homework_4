{
 "cells": [
  {
   "cell_type": "code",
   "execution_count": 1,
   "metadata": {},
   "outputs": [],
   "source": [
    "# Dependencies\n",
    "import pandas as pd"
   ]
  },
  {
   "cell_type": "code",
   "execution_count": 2,
   "metadata": {},
   "outputs": [],
   "source": [
    "# Create df\n",
    "df = pd.read_csv(\"Resources/purchase_data.csv\")\n",
    "df = df.rename(columns={\n",
    "    \"Purchase ID\":\"purchase_id\",\n",
    "    \"SN\":\"sn\",\n",
    "    \"Age\":\"age\",\n",
    "    \"Gender\":\"gender\",\n",
    "    \"Item ID\":\"item_id\",\n",
    "    \"Item Name\":\"item_name\",\n",
    "    \"Price\":\"price\"\n",
    "})"
   ]
  },
  {
   "cell_type": "code",
   "execution_count": null,
   "metadata": {},
   "outputs": [],
   "source": [
    "### Player Count\n",
    "tot_players = df.sn.unique().shape[0]\n",
    "\n",
    "player_df = pd.DataFrame({\"Total Players\":tot_players}, index=[0])\n",
    "player_df"
   ]
  },
  {
   "cell_type": "code",
   "execution_count": null,
   "metadata": {},
   "outputs": [],
   "source": [
    "### Purchasing Analysis (Total)\n",
    "unique_items = df.item_id.unique().shape[0]\n",
    "avg_price = round(df.price.mean(),2)\n",
    "tot_purchases = df.shape[0]\n",
    "tot_revenue = df.price.sum()\n",
    "\n",
    "purchase_analysis = pd.DataFrame({\n",
    "    \"Unique Items\": unique_items,\n",
    "    \"Average Price\": avg_price,\n",
    "    \"Number of Purchases\": tot_purchases,\n",
    "    \"Total Revenue\": tot_revenue,\n",
    "}, index=[0])\n",
    "purchase_analysis"
   ]
  },
  {
   "cell_type": "code",
   "execution_count": null,
   "metadata": {},
   "outputs": [],
   "source": [
    "### Gender Demographics\n",
    "gender_group = df.groupby(['gender'])\n",
    "\n",
    "gender_counts = (gender_group['sn'].unique()).str.len()\n",
    "gender_total = gender_counts.sum(axis = 0, skipna = True)\n",
    "\n",
    "gender_demographics = pd.DataFrame({\n",
    "    \"Total Count\":gender_counts[:],\n",
    "    \"Percentage of Players\":round(((gender_counts[:]/gender_total)*100),2),\n",
    "})\n",
    "del gender_demographics.index.name\n",
    "gender_demographics"
   ]
  },
  {
   "cell_type": "code",
   "execution_count": null,
   "metadata": {},
   "outputs": [],
   "source": [
    "### Purchasing Analysis (Gender)\n",
    "purchasing_analysis_df = pd.DataFrame({\n",
    "    'Genders':[i][0],\n",
    "    'Purchase Count':[df[df.gender == i].shape[0]][0], \n",
    "    'Avg. Purchase Price':[df[df.gender == i].price.mean()][0],\n",
    "    'Tot. Purchase Value':[df[df.gender == i].price.sum()][0],\n",
    "} for i in gender_counts.index)\n",
    "purchasing_analysis_df.set_index(['Genders'])"
   ]
  },
  {
   "cell_type": "code",
   "execution_count": 3,
   "metadata": {},
   "outputs": [
    {
     "name": "stdout",
     "output_type": "stream",
     "text": [
      "For ages: 5-9\n",
      "\tPurchase Count: 17\n",
      "\tAvg. Purchase Price: 3.4623529411764706\n",
      "\tTot. Purchase Value: 58.86\n",
      "For ages: 10-14\n",
      "\tPurchase Count: 26\n",
      "\tAvg. Purchase Price: 2.9180769230769226\n",
      "\tTot. Purchase Value: 75.87\n",
      "For ages: 15-19\n",
      "\tPurchase Count: 113\n",
      "\tAvg. Purchase Price: 3.034601769911505\n",
      "\tTot. Purchase Value: 342.9100000000001\n",
      "For ages: 20-24\n",
      "\tPurchase Count: 298\n",
      "\tAvg. Purchase Price: 3.0330201342281877\n",
      "\tTot. Purchase Value: 903.8400000000001\n",
      "For ages: 25-29\n",
      "\tPurchase Count: 88\n",
      "\tAvg. Purchase Price: 2.9292045454545446\n",
      "\tTot. Purchase Value: 257.77\n",
      "For ages: 30-34\n",
      "\tPurchase Count: 64\n",
      "\tAvg. Purchase Price: 2.9979687500000005\n",
      "\tTot. Purchase Value: 191.87\n",
      "For ages: 35-39\n",
      "\tPurchase Count: 35\n",
      "\tAvg. Purchase Price: 3.5528571428571425\n",
      "\tTot. Purchase Value: 124.34999999999998\n",
      "For ages: 40-44\n",
      "\tPurchase Count: 10\n",
      "\tAvg. Purchase Price: 3.118\n",
      "\tTot. Purchase Value: 31.18\n"
     ]
    }
   ],
   "source": [
    "### Age Demographics\n",
    "age_bins = [[i, i+4] for i in range(5, df.age.max(), 5)]\n",
    "\n",
    "for a in age_bins:\n",
    "    lower, upper = a\n",
    "    print(\"For ages: {0}-{1}\".format(*a))\n",
    "    sdf = df[(df.age >= lower) & (df.age < upper)]\n",
    "    print(\"\\tPurchase Count:\", sdf.shape[0])\n",
    "    print(\"\\tAvg. Purchase Price:\", sdf.price.mean())\n",
    "    print(\"\\tTot. Purchase Value:\", sdf.price.sum())\n",
    "    #Average Purchase Total per Person by Age Group"
   ]
  },
  {
   "cell_type": "code",
   "execution_count": null,
   "metadata": {},
   "outputs": [],
   "source": [
    "### Age Demographics\n",
    "age_bins = [[i, i+4] for i in range(10, df.age.max(), 5)]\n",
    "\n",
    "age_df = pd.DataFrame({\n",
    "    print(\"{0}-{1}\".format(*a))\n",
    "} for a in age_bins)"
   ]
  },
  {
   "cell_type": "code",
   "execution_count": null,
   "metadata": {},
   "outputs": [],
   "source": [
    "### Top Spenders\n",
    "sn_groups = df.groupby(['sn'])\n",
    "sn_count = sn_groups['sn'].count()\n",
    "sn_average = sn_groups['price'].mean()\n",
    "sn_total = sn_groups[\"price\"].sum()\n",
    "\n",
    "sn_df = pd.DataFrame({\n",
    "    \"Purchase Count\": sn_count,\n",
    "    \"Avg. Purchase Price\": sn_average,\n",
    "    \"Tot. Purchase Value\": sn_total,\n",
    "})\n",
    "\n",
    "sn_df.sort_values(by=['Tot. Purchase Value'], ascending=False).head()"
   ]
  },
  {
   "cell_type": "code",
   "execution_count": null,
   "metadata": {},
   "outputs": [],
   "source": [
    "### Most Popular Items\n",
    "item_groups = df.groupby(['item_id'])\n",
    "item_name = item_groups.item_name.first()\n",
    "item_count = item_groups.item_id.count()\n",
    "item_price = item_groups.price.first()\n",
    "item_total = item_groups.price.sum()\n",
    "\n",
    "item_df = pd.DataFrame({\n",
    "    \"Item Name\": item_name,\n",
    "    \"Purchase Count\": item_count,\n",
    "    \"Item Price\": item_price,\n",
    "    \"Tot. Purchase Value\": item_total,\n",
    "})\n",
    "\n",
    "item_df.sort_values(by=['Purchase Count'], ascending=False).head()"
   ]
  },
  {
   "cell_type": "code",
   "execution_count": null,
   "metadata": {},
   "outputs": [],
   "source": [
    "### Most Profitable Items\n",
    "item_df.sort_values(by=['Tot. Purchase Value'], ascending=False).head()"
   ]
  },
  {
   "cell_type": "code",
   "execution_count": null,
   "metadata": {},
   "outputs": [],
   "source": []
  }
 ],
 "metadata": {
  "kernelspec": {
   "display_name": "Python 3",
   "language": "python",
   "name": "python3"
  },
  "language_info": {
   "codemirror_mode": {
    "name": "ipython",
    "version": 3
   },
   "file_extension": ".py",
   "mimetype": "text/x-python",
   "name": "python",
   "nbconvert_exporter": "python",
   "pygments_lexer": "ipython3",
   "version": "3.7.4"
  }
 },
 "nbformat": 4,
 "nbformat_minor": 4
}
